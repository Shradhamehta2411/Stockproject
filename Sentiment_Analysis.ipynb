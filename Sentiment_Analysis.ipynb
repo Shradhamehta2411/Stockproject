{
  "nbformat": 4,
  "nbformat_minor": 0,
  "metadata": {
    "colab": {
      "name": "Sentiment Analysis",
      "provenance": [],
      "collapsed_sections": []
    },
    "kernelspec": {
      "name": "python3",
      "display_name": "Python 3"
    },
    "accelerator": "GPU"
  },
  "cells": [
    {
      "cell_type": "code",
      "metadata": {
        "id": "qclVDymr7wR_"
      },
      "source": [
        "#from google.colab import files, drive\n",
        "#drive.mount('/content/gdrive')\n",
        "# files.upload()"
      ],
      "execution_count": 25,
      "outputs": []
    },
    {
      "cell_type": "code",
      "metadata": {
        "colab": {
          "base_uri": "https://localhost:8080/"
        },
        "id": "J-DfSTceCcfP",
        "outputId": "63604c11-1ea3-4adc-b71f-913d1b5e2c0b"
      },
      "source": [
        "!pip install transformers\n",
        "!pip install silence_tensorflow"
      ],
      "execution_count": 42,
      "outputs": [
        {
          "output_type": "stream",
          "text": [
            "Requirement already satisfied: transformers in /usr/local/lib/python3.7/dist-packages (4.5.1)\n",
            "Requirement already satisfied: importlib-metadata; python_version < \"3.8\" in /usr/local/lib/python3.7/dist-packages (from transformers) (3.10.1)\n",
            "Requirement already satisfied: filelock in /usr/local/lib/python3.7/dist-packages (from transformers) (3.0.12)\n",
            "Requirement already satisfied: packaging in /usr/local/lib/python3.7/dist-packages (from transformers) (20.9)\n",
            "Requirement already satisfied: numpy>=1.17 in /usr/local/lib/python3.7/dist-packages (from transformers) (1.19.5)\n",
            "Requirement already satisfied: sacremoses in /usr/local/lib/python3.7/dist-packages (from transformers) (0.0.45)\n",
            "Requirement already satisfied: requests in /usr/local/lib/python3.7/dist-packages (from transformers) (2.23.0)\n",
            "Requirement already satisfied: tqdm>=4.27 in /usr/local/lib/python3.7/dist-packages (from transformers) (4.41.1)\n",
            "Requirement already satisfied: tokenizers<0.11,>=0.10.1 in /usr/local/lib/python3.7/dist-packages (from transformers) (0.10.2)\n",
            "Requirement already satisfied: regex!=2019.12.17 in /usr/local/lib/python3.7/dist-packages (from transformers) (2019.12.20)\n",
            "Requirement already satisfied: zipp>=0.5 in /usr/local/lib/python3.7/dist-packages (from importlib-metadata; python_version < \"3.8\"->transformers) (3.4.1)\n",
            "Requirement already satisfied: typing-extensions>=3.6.4; python_version < \"3.8\" in /usr/local/lib/python3.7/dist-packages (from importlib-metadata; python_version < \"3.8\"->transformers) (3.7.4.3)\n",
            "Requirement already satisfied: pyparsing>=2.0.2 in /usr/local/lib/python3.7/dist-packages (from packaging->transformers) (2.4.7)\n",
            "Requirement already satisfied: joblib in /usr/local/lib/python3.7/dist-packages (from sacremoses->transformers) (1.0.1)\n",
            "Requirement already satisfied: six in /usr/local/lib/python3.7/dist-packages (from sacremoses->transformers) (1.15.0)\n",
            "Requirement already satisfied: click in /usr/local/lib/python3.7/dist-packages (from sacremoses->transformers) (7.1.2)\n",
            "Requirement already satisfied: certifi>=2017.4.17 in /usr/local/lib/python3.7/dist-packages (from requests->transformers) (2020.12.5)\n",
            "Requirement already satisfied: idna<3,>=2.5 in /usr/local/lib/python3.7/dist-packages (from requests->transformers) (2.10)\n",
            "Requirement already satisfied: chardet<4,>=3.0.2 in /usr/local/lib/python3.7/dist-packages (from requests->transformers) (3.0.4)\n",
            "Requirement already satisfied: urllib3!=1.25.0,!=1.25.1,<1.26,>=1.21.1 in /usr/local/lib/python3.7/dist-packages (from requests->transformers) (1.24.3)\n",
            "Requirement already satisfied: silence_tensorflow in /usr/local/lib/python3.7/dist-packages (1.1.1)\n"
          ],
          "name": "stdout"
        }
      ]
    },
    {
      "cell_type": "code",
      "metadata": {
        "id": "v8XG9WaC7w4t"
      },
      "source": [
        "%matplotlib inline\n",
        "#Importing Transformers\n",
        "import transformers\n",
        "from transformers import AutoConfig, AutoModelForSequenceClassification, AutoTokenizer\n",
        "\n",
        "#Importing Pandas\n",
        "import pandas as pd\n",
        "\n",
        "#Importing Numpy\n",
        "import numpy as np\n",
        "\n",
        "from silence_tensorflow import silence_tensorflow\n",
        "silence_tensorflow()\n",
        "import torch\n",
        "import json\n",
        "import nltk\n",
        "import re\n",
        "import string\n",
        "import matplotlib.pyplot as plt\n",
        "import operator"
      ],
      "execution_count": 43,
      "outputs": []
    },
    {
      "cell_type": "code",
      "metadata": {
        "id": "gH2Aj71CIL9Z"
      },
      "source": [
        "config = AutoConfig.from_pretrained(\"ProsusAI/finbert\")\n",
        "tokenizer = AutoTokenizer.from_pretrained(\"ProsusAI/finbert\")\n",
        "model = AutoModelForSequenceClassification.from_pretrained(\"ProsusAI/finbert\")"
      ],
      "execution_count": 44,
      "outputs": []
    },
    {
      "cell_type": "code",
      "metadata": {
        "id": "EvZ04_BYCbLB"
      },
      "source": [
        "SBI_news = pd.read_excel('articles_sbi (3).xlsx')\n",
        "SBI_news = SBI_news.loc[:, ~SBI_news.columns.str.contains('^Unnamed')]"
      ],
      "execution_count": 46,
      "outputs": []
    },
    {
      "cell_type": "code",
      "metadata": {
        "colab": {
          "base_uri": "https://localhost:8080/",
          "height": 306
        },
        "id": "m4jta6LGVEfP",
        "outputId": "97738c08-0a79-4a4c-db33-99c39c77af0c"
      },
      "source": [
        "SBI_news.head()"
      ],
      "execution_count": 47,
      "outputs": [
        {
          "output_type": "execute_result",
          "data": {
            "text/html": [
              "<div>\n",
              "<style scoped>\n",
              "    .dataframe tbody tr th:only-of-type {\n",
              "        vertical-align: middle;\n",
              "    }\n",
              "\n",
              "    .dataframe tbody tr th {\n",
              "        vertical-align: top;\n",
              "    }\n",
              "\n",
              "    .dataframe thead th {\n",
              "        text-align: right;\n",
              "    }\n",
              "</style>\n",
              "<table border=\"1\" class=\"dataframe\">\n",
              "  <thead>\n",
              "    <tr style=\"text-align: right;\">\n",
              "      <th></th>\n",
              "      <th>Date</th>\n",
              "      <th>Media</th>\n",
              "      <th>Title</th>\n",
              "      <th>Article</th>\n",
              "      <th>Summary</th>\n",
              "      <th>Classifier</th>\n",
              "    </tr>\n",
              "  </thead>\n",
              "  <tbody>\n",
              "    <tr>\n",
              "      <th>0</th>\n",
              "      <td>Mar 8, 2020</td>\n",
              "      <td>Business Standard</td>\n",
              "      <td>SBI says YES Bank survival crucial, can invest...</td>\n",
              "      <td>Dear Reader,\\n\\nBusiness Standard has always s...</td>\n",
              "      <td>As we battle the economic impact of the pandem...</td>\n",
              "      <td>NaN</td>\n",
              "    </tr>\n",
              "    <tr>\n",
              "      <th>1</th>\n",
              "      <td>Mar 5, 2020</td>\n",
              "      <td>Mint</td>\n",
              "      <td>Yes Bank will not be nationalised; SBI board m...</td>\n",
              "      <td>Yes Bank Ltd will not be nationalised under th...</td>\n",
              "      <td>“State Bank will only hold a stake in Yes Bank...</td>\n",
              "      <td>NaN</td>\n",
              "    </tr>\n",
              "    <tr>\n",
              "      <th>2</th>\n",
              "      <td>Mar 6, 2020</td>\n",
              "      <td>Business Today</td>\n",
              "      <td>SBI, LIC to rescue Yes Bank? Here's what we kn...</td>\n",
              "      <td>The government has knocked on the doors of the...</td>\n",
              "      <td>The government has knocked on the doors of the...</td>\n",
              "      <td>NaN</td>\n",
              "    </tr>\n",
              "    <tr>\n",
              "      <th>3</th>\n",
              "      <td>Mar 13, 2020</td>\n",
              "      <td>Mint</td>\n",
              "      <td>SBI, LIC &amp; top private banks together to infus...</td>\n",
              "      <td>Mumbai: State bank of India has submitted a pr...</td>\n",
              "      <td>According to the proposal, SBI will infuse ₹72...</td>\n",
              "      <td>NaN</td>\n",
              "    </tr>\n",
              "    <tr>\n",
              "      <th>4</th>\n",
              "      <td>Mar 13, 2020</td>\n",
              "      <td>The Economic Times</td>\n",
              "      <td>YES Bank bailout plan: SBI, ICICI, Jhunjhunwal...</td>\n",
              "      <td>Mumbai/New Delhi: The Cabinet approved the rec...</td>\n",
              "      <td>Other participants in the plan include Housing...</td>\n",
              "      <td>NaN</td>\n",
              "    </tr>\n",
              "  </tbody>\n",
              "</table>\n",
              "</div>"
            ],
            "text/plain": [
              "           Date  ... Classifier\n",
              "0   Mar 8, 2020  ...        NaN\n",
              "1   Mar 5, 2020  ...        NaN\n",
              "2   Mar 6, 2020  ...        NaN\n",
              "3  Mar 13, 2020  ...        NaN\n",
              "4  Mar 13, 2020  ...        NaN\n",
              "\n",
              "[5 rows x 6 columns]"
            ]
          },
          "metadata": {
            "tags": []
          },
          "execution_count": 47
        }
      ]
    },
    {
      "cell_type": "code",
      "metadata": {
        "id": "O-r4_6ply28X",
        "outputId": "c3d5db5d-b1f8-4a68-b838-2e4c16c33adb",
        "colab": {
          "base_uri": "https://localhost:8080/",
          "height": 306
        }
      },
      "source": [
        "SBI_news_mod.head()"
      ],
      "execution_count": 50,
      "outputs": [
        {
          "output_type": "execute_result",
          "data": {
            "text/html": [
              "<div>\n",
              "<style scoped>\n",
              "    .dataframe tbody tr th:only-of-type {\n",
              "        vertical-align: middle;\n",
              "    }\n",
              "\n",
              "    .dataframe tbody tr th {\n",
              "        vertical-align: top;\n",
              "    }\n",
              "\n",
              "    .dataframe thead th {\n",
              "        text-align: right;\n",
              "    }\n",
              "</style>\n",
              "<table border=\"1\" class=\"dataframe\">\n",
              "  <thead>\n",
              "    <tr style=\"text-align: right;\">\n",
              "      <th></th>\n",
              "      <th>Date</th>\n",
              "      <th>Media</th>\n",
              "      <th>Title</th>\n",
              "      <th>Article</th>\n",
              "      <th>Summary</th>\n",
              "      <th>Classifier</th>\n",
              "    </tr>\n",
              "  </thead>\n",
              "  <tbody>\n",
              "    <tr>\n",
              "      <th>0</th>\n",
              "      <td>Mar 8, 2020</td>\n",
              "      <td>Business Standard</td>\n",
              "      <td>SBI says YES Bank survival crucial, can invest...</td>\n",
              "      <td>Dear Reader,\\n\\nBusiness Standard has always s...</td>\n",
              "      <td>As we battle the economic impact of the pandem...</td>\n",
              "      <td>NaN</td>\n",
              "    </tr>\n",
              "    <tr>\n",
              "      <th>1</th>\n",
              "      <td>Mar 5, 2020</td>\n",
              "      <td>Mint</td>\n",
              "      <td>Yes Bank will not be nationalised; SBI board m...</td>\n",
              "      <td>Yes Bank Ltd will not be nationalised under th...</td>\n",
              "      <td>“State Bank will only hold a stake in Yes Bank...</td>\n",
              "      <td>NaN</td>\n",
              "    </tr>\n",
              "    <tr>\n",
              "      <th>2</th>\n",
              "      <td>Mar 6, 2020</td>\n",
              "      <td>Business Today</td>\n",
              "      <td>SBI, LIC to rescue Yes Bank? Here's what we kn...</td>\n",
              "      <td>The government has knocked on the doors of the...</td>\n",
              "      <td>The government has knocked on the doors of the...</td>\n",
              "      <td>NaN</td>\n",
              "    </tr>\n",
              "    <tr>\n",
              "      <th>3</th>\n",
              "      <td>Mar 13, 2020</td>\n",
              "      <td>Mint</td>\n",
              "      <td>SBI, LIC &amp; top private banks together to infus...</td>\n",
              "      <td>Mumbai: State bank of India has submitted a pr...</td>\n",
              "      <td>According to the proposal, SBI will infuse ₹72...</td>\n",
              "      <td>NaN</td>\n",
              "    </tr>\n",
              "    <tr>\n",
              "      <th>4</th>\n",
              "      <td>Mar 13, 2020</td>\n",
              "      <td>The Economic Times</td>\n",
              "      <td>YES Bank bailout plan: SBI, ICICI, Jhunjhunwal...</td>\n",
              "      <td>Mumbai/New Delhi: The Cabinet approved the rec...</td>\n",
              "      <td>Other participants in the plan include Housing...</td>\n",
              "      <td>NaN</td>\n",
              "    </tr>\n",
              "  </tbody>\n",
              "</table>\n",
              "</div>"
            ],
            "text/plain": [
              "           Date  ... Classifier\n",
              "0   Mar 8, 2020  ...        NaN\n",
              "1   Mar 5, 2020  ...        NaN\n",
              "2   Mar 6, 2020  ...        NaN\n",
              "3  Mar 13, 2020  ...        NaN\n",
              "4  Mar 13, 2020  ...        NaN\n",
              "\n",
              "[5 rows x 6 columns]"
            ]
          },
          "metadata": {
            "tags": []
          },
          "execution_count": 50
        }
      ]
    },
    {
      "cell_type": "code",
      "metadata": {
        "id": "whG9GPqLnjWF"
      },
      "source": [
        "SBI_news_mod = SBI_news.copy(deep=True)"
      ],
      "execution_count": 49,
      "outputs": []
    },
    {
      "cell_type": "code",
      "metadata": {
        "id": "e0kpeFKpqmay"
      },
      "source": [
        "classes=['positive','negative','neutral']"
      ],
      "execution_count": 51,
      "outputs": []
    },
    {
      "cell_type": "code",
      "metadata": {
        "id": "WpethJyU4NMd",
        "outputId": "a1e472e9-510f-4d78-b0a7-95b68d75411d",
        "colab": {
          "base_uri": "https://localhost:8080/",
          "height": 289
        }
      },
      "source": [
        "SBI_news_mod.drop('Classifier',inplace=True, axis=1)\n",
        "SBI_news_mod.head()"
      ],
      "execution_count": 54,
      "outputs": [
        {
          "output_type": "execute_result",
          "data": {
            "text/html": [
              "<div>\n",
              "<style scoped>\n",
              "    .dataframe tbody tr th:only-of-type {\n",
              "        vertical-align: middle;\n",
              "    }\n",
              "\n",
              "    .dataframe tbody tr th {\n",
              "        vertical-align: top;\n",
              "    }\n",
              "\n",
              "    .dataframe thead th {\n",
              "        text-align: right;\n",
              "    }\n",
              "</style>\n",
              "<table border=\"1\" class=\"dataframe\">\n",
              "  <thead>\n",
              "    <tr style=\"text-align: right;\">\n",
              "      <th></th>\n",
              "      <th>Date</th>\n",
              "      <th>Media</th>\n",
              "      <th>Title</th>\n",
              "      <th>Article</th>\n",
              "      <th>Summary</th>\n",
              "    </tr>\n",
              "  </thead>\n",
              "  <tbody>\n",
              "    <tr>\n",
              "      <th>0</th>\n",
              "      <td>Mar 8, 2020</td>\n",
              "      <td>Business Standard</td>\n",
              "      <td>SBI says YES Bank survival crucial, can invest...</td>\n",
              "      <td>Dear Reader,\\n\\nBusiness Standard has always s...</td>\n",
              "      <td>As we battle the economic impact of the pandem...</td>\n",
              "    </tr>\n",
              "    <tr>\n",
              "      <th>1</th>\n",
              "      <td>Mar 5, 2020</td>\n",
              "      <td>Mint</td>\n",
              "      <td>Yes Bank will not be nationalised; SBI board m...</td>\n",
              "      <td>Yes Bank Ltd will not be nationalised under th...</td>\n",
              "      <td>“State Bank will only hold a stake in Yes Bank...</td>\n",
              "    </tr>\n",
              "    <tr>\n",
              "      <th>2</th>\n",
              "      <td>Mar 6, 2020</td>\n",
              "      <td>Business Today</td>\n",
              "      <td>SBI, LIC to rescue Yes Bank? Here's what we kn...</td>\n",
              "      <td>The government has knocked on the doors of the...</td>\n",
              "      <td>The government has knocked on the doors of the...</td>\n",
              "    </tr>\n",
              "    <tr>\n",
              "      <th>3</th>\n",
              "      <td>Mar 13, 2020</td>\n",
              "      <td>Mint</td>\n",
              "      <td>SBI, LIC &amp; top private banks together to infus...</td>\n",
              "      <td>Mumbai: State bank of India has submitted a pr...</td>\n",
              "      <td>According to the proposal, SBI will infuse ₹72...</td>\n",
              "    </tr>\n",
              "    <tr>\n",
              "      <th>4</th>\n",
              "      <td>Mar 13, 2020</td>\n",
              "      <td>The Economic Times</td>\n",
              "      <td>YES Bank bailout plan: SBI, ICICI, Jhunjhunwal...</td>\n",
              "      <td>Mumbai/New Delhi: The Cabinet approved the rec...</td>\n",
              "      <td>Other participants in the plan include Housing...</td>\n",
              "    </tr>\n",
              "  </tbody>\n",
              "</table>\n",
              "</div>"
            ],
            "text/plain": [
              "           Date  ...                                            Summary\n",
              "0   Mar 8, 2020  ...  As we battle the economic impact of the pandem...\n",
              "1   Mar 5, 2020  ...  “State Bank will only hold a stake in Yes Bank...\n",
              "2   Mar 6, 2020  ...  The government has knocked on the doors of the...\n",
              "3  Mar 13, 2020  ...  According to the proposal, SBI will infuse ₹72...\n",
              "4  Mar 13, 2020  ...  Other participants in the plan include Housing...\n",
              "\n",
              "[5 rows x 5 columns]"
            ]
          },
          "metadata": {
            "tags": []
          },
          "execution_count": 54
        }
      ]
    },
    {
      "cell_type": "code",
      "metadata": {
        "id": "5e_viCMIzilQ"
      },
      "source": [
        "SBI_news_mod = SBI_news_mod.dropna()"
      ],
      "execution_count": 55,
      "outputs": []
    },
    {
      "cell_type": "code",
      "metadata": {
        "id": "2y8IOmb7uAww",
        "outputId": "50caafdc-604f-4d83-b738-766ee5e813d5",
        "colab": {
          "base_uri": "https://localhost:8080/"
        }
      },
      "source": [
        "SBI_news_mod['title_encoded'] = SBI_news_mod['Title'].apply(lambda x: tokenizer.encode_plus(x,\n",
        "                                                                                            truncation=True,\n",
        "                                                                                            padding=True,\n",
        "                                                                                            return_tensors=\"pt\"))"
      ],
      "execution_count": 56,
      "outputs": [
        {
          "output_type": "stream",
          "text": [
            "/usr/local/lib/python3.7/dist-packages/ipykernel_launcher.py:1: SettingWithCopyWarning: \n",
            "A value is trying to be set on a copy of a slice from a DataFrame.\n",
            "Try using .loc[row_indexer,col_indexer] = value instead\n",
            "\n",
            "See the caveats in the documentation: https://pandas.pydata.org/pandas-docs/stable/user_guide/indexing.html#returning-a-view-versus-a-copy\n",
            "  \"\"\"Entry point for launching an IPython kernel.\n"
          ],
          "name": "stderr"
        }
      ]
    },
    {
      "cell_type": "code",
      "metadata": {
        "id": "YDMygYmOubOR",
        "outputId": "8d858c5c-3654-4f40-f8b4-d287826f5f85",
        "colab": {
          "base_uri": "https://localhost:8080/"
        }
      },
      "source": [
        "SBI_news_mod['sentiment'] = SBI_news_mod['title_encoded'].apply(lambda x: dict(zip(classes, torch.softmax(model(**x)[0], dim=1).tolist()[0])))"
      ],
      "execution_count": 57,
      "outputs": [
        {
          "output_type": "stream",
          "text": [
            "/usr/local/lib/python3.7/dist-packages/ipykernel_launcher.py:1: SettingWithCopyWarning: \n",
            "A value is trying to be set on a copy of a slice from a DataFrame.\n",
            "Try using .loc[row_indexer,col_indexer] = value instead\n",
            "\n",
            "See the caveats in the documentation: https://pandas.pydata.org/pandas-docs/stable/user_guide/indexing.html#returning-a-view-versus-a-copy\n",
            "  \"\"\"Entry point for launching an IPython kernel.\n"
          ],
          "name": "stderr"
        }
      ]
    },
    {
      "cell_type": "code",
      "metadata": {
        "colab": {
          "base_uri": "https://localhost:8080/",
          "height": 374
        },
        "id": "3hcH7rgwy-bU",
        "outputId": "830630c5-c1e1-4414-ef3f-d3c4e5d3e74a"
      },
      "source": [
        "SBI_news_mod.head()"
      ],
      "execution_count": 58,
      "outputs": [
        {
          "output_type": "execute_result",
          "data": {
            "text/html": [
              "<div>\n",
              "<style scoped>\n",
              "    .dataframe tbody tr th:only-of-type {\n",
              "        vertical-align: middle;\n",
              "    }\n",
              "\n",
              "    .dataframe tbody tr th {\n",
              "        vertical-align: top;\n",
              "    }\n",
              "\n",
              "    .dataframe thead th {\n",
              "        text-align: right;\n",
              "    }\n",
              "</style>\n",
              "<table border=\"1\" class=\"dataframe\">\n",
              "  <thead>\n",
              "    <tr style=\"text-align: right;\">\n",
              "      <th></th>\n",
              "      <th>Date</th>\n",
              "      <th>Media</th>\n",
              "      <th>Title</th>\n",
              "      <th>Article</th>\n",
              "      <th>Summary</th>\n",
              "      <th>title_encoded</th>\n",
              "      <th>sentiment</th>\n",
              "    </tr>\n",
              "  </thead>\n",
              "  <tbody>\n",
              "    <tr>\n",
              "      <th>0</th>\n",
              "      <td>Mar 8, 2020</td>\n",
              "      <td>Business Standard</td>\n",
              "      <td>SBI says YES Bank survival crucial, can invest...</td>\n",
              "      <td>Dear Reader,\\n\\nBusiness Standard has always s...</td>\n",
              "      <td>As we battle the economic impact of the pandem...</td>\n",
              "      <td>[input_ids, token_type_ids, attention_mask]</td>\n",
              "      <td>{'positive': 0.4953855276107788, 'negative': 0...</td>\n",
              "    </tr>\n",
              "    <tr>\n",
              "      <th>1</th>\n",
              "      <td>Mar 5, 2020</td>\n",
              "      <td>Mint</td>\n",
              "      <td>Yes Bank will not be nationalised; SBI board m...</td>\n",
              "      <td>Yes Bank Ltd will not be nationalised under th...</td>\n",
              "      <td>“State Bank will only hold a stake in Yes Bank...</td>\n",
              "      <td>[input_ids, token_type_ids, attention_mask]</td>\n",
              "      <td>{'positive': 0.02600766532123089, 'negative': ...</td>\n",
              "    </tr>\n",
              "    <tr>\n",
              "      <th>2</th>\n",
              "      <td>Mar 6, 2020</td>\n",
              "      <td>Business Today</td>\n",
              "      <td>SBI, LIC to rescue Yes Bank? Here's what we kn...</td>\n",
              "      <td>The government has knocked on the doors of the...</td>\n",
              "      <td>The government has knocked on the doors of the...</td>\n",
              "      <td>[input_ids, token_type_ids, attention_mask]</td>\n",
              "      <td>{'positive': 0.05002627521753311, 'negative': ...</td>\n",
              "    </tr>\n",
              "    <tr>\n",
              "      <th>3</th>\n",
              "      <td>Mar 13, 2020</td>\n",
              "      <td>Mint</td>\n",
              "      <td>SBI, LIC &amp; top private banks together to infus...</td>\n",
              "      <td>Mumbai: State bank of India has submitted a pr...</td>\n",
              "      <td>According to the proposal, SBI will infuse ₹72...</td>\n",
              "      <td>[input_ids, token_type_ids, attention_mask]</td>\n",
              "      <td>{'positive': 0.5257067680358887, 'negative': 0...</td>\n",
              "    </tr>\n",
              "    <tr>\n",
              "      <th>4</th>\n",
              "      <td>Mar 13, 2020</td>\n",
              "      <td>The Economic Times</td>\n",
              "      <td>YES Bank bailout plan: SBI, ICICI, Jhunjhunwal...</td>\n",
              "      <td>Mumbai/New Delhi: The Cabinet approved the rec...</td>\n",
              "      <td>Other participants in the plan include Housing...</td>\n",
              "      <td>[input_ids, token_type_ids, attention_mask]</td>\n",
              "      <td>{'positive': 0.6517215967178345, 'negative': 0...</td>\n",
              "    </tr>\n",
              "  </tbody>\n",
              "</table>\n",
              "</div>"
            ],
            "text/plain": [
              "           Date  ...                                          sentiment\n",
              "0   Mar 8, 2020  ...  {'positive': 0.4953855276107788, 'negative': 0...\n",
              "1   Mar 5, 2020  ...  {'positive': 0.02600766532123089, 'negative': ...\n",
              "2   Mar 6, 2020  ...  {'positive': 0.05002627521753311, 'negative': ...\n",
              "3  Mar 13, 2020  ...  {'positive': 0.5257067680358887, 'negative': 0...\n",
              "4  Mar 13, 2020  ...  {'positive': 0.6517215967178345, 'negative': 0...\n",
              "\n",
              "[5 rows x 7 columns]"
            ]
          },
          "metadata": {
            "tags": []
          },
          "execution_count": 58
        }
      ]
    },
    {
      "cell_type": "code",
      "metadata": {
        "id": "59mtMpnh1EFL",
        "outputId": "dca860d1-ede6-4417-f4f2-d18964840a6b",
        "colab": {
          "base_uri": "https://localhost:8080/"
        }
      },
      "source": [
        "SBI_news_mod['sentiment_news'] = SBI_news_mod['sentiment'].apply(lambda x: max(x.items(), key=operator.itemgetter(1))[0])"
      ],
      "execution_count": 59,
      "outputs": [
        {
          "output_type": "stream",
          "text": [
            "/usr/local/lib/python3.7/dist-packages/ipykernel_launcher.py:1: SettingWithCopyWarning: \n",
            "A value is trying to be set on a copy of a slice from a DataFrame.\n",
            "Try using .loc[row_indexer,col_indexer] = value instead\n",
            "\n",
            "See the caveats in the documentation: https://pandas.pydata.org/pandas-docs/stable/user_guide/indexing.html#returning-a-view-versus-a-copy\n",
            "  \"\"\"Entry point for launching an IPython kernel.\n"
          ],
          "name": "stderr"
        }
      ]
    },
    {
      "cell_type": "code",
      "metadata": {
        "colab": {
          "base_uri": "https://localhost:8080/",
          "height": 459
        },
        "id": "FNs0gQeC1szj",
        "outputId": "fa5433f5-bdc1-4ccd-e7e5-f6afd444d307"
      },
      "source": [
        "SBI_news_mod.head()"
      ],
      "execution_count": 60,
      "outputs": [
        {
          "output_type": "execute_result",
          "data": {
            "text/html": [
              "<div>\n",
              "<style scoped>\n",
              "    .dataframe tbody tr th:only-of-type {\n",
              "        vertical-align: middle;\n",
              "    }\n",
              "\n",
              "    .dataframe tbody tr th {\n",
              "        vertical-align: top;\n",
              "    }\n",
              "\n",
              "    .dataframe thead th {\n",
              "        text-align: right;\n",
              "    }\n",
              "</style>\n",
              "<table border=\"1\" class=\"dataframe\">\n",
              "  <thead>\n",
              "    <tr style=\"text-align: right;\">\n",
              "      <th></th>\n",
              "      <th>Date</th>\n",
              "      <th>Media</th>\n",
              "      <th>Title</th>\n",
              "      <th>Article</th>\n",
              "      <th>Summary</th>\n",
              "      <th>title_encoded</th>\n",
              "      <th>sentiment</th>\n",
              "      <th>sentiment_news</th>\n",
              "    </tr>\n",
              "  </thead>\n",
              "  <tbody>\n",
              "    <tr>\n",
              "      <th>0</th>\n",
              "      <td>Mar 8, 2020</td>\n",
              "      <td>Business Standard</td>\n",
              "      <td>SBI says YES Bank survival crucial, can invest...</td>\n",
              "      <td>Dear Reader,\\n\\nBusiness Standard has always s...</td>\n",
              "      <td>As we battle the economic impact of the pandem...</td>\n",
              "      <td>[input_ids, token_type_ids, attention_mask]</td>\n",
              "      <td>{'positive': 0.4953855276107788, 'negative': 0...</td>\n",
              "      <td>neutral</td>\n",
              "    </tr>\n",
              "    <tr>\n",
              "      <th>1</th>\n",
              "      <td>Mar 5, 2020</td>\n",
              "      <td>Mint</td>\n",
              "      <td>Yes Bank will not be nationalised; SBI board m...</td>\n",
              "      <td>Yes Bank Ltd will not be nationalised under th...</td>\n",
              "      <td>“State Bank will only hold a stake in Yes Bank...</td>\n",
              "      <td>[input_ids, token_type_ids, attention_mask]</td>\n",
              "      <td>{'positive': 0.02600766532123089, 'negative': ...</td>\n",
              "      <td>neutral</td>\n",
              "    </tr>\n",
              "    <tr>\n",
              "      <th>2</th>\n",
              "      <td>Mar 6, 2020</td>\n",
              "      <td>Business Today</td>\n",
              "      <td>SBI, LIC to rescue Yes Bank? Here's what we kn...</td>\n",
              "      <td>The government has knocked on the doors of the...</td>\n",
              "      <td>The government has knocked on the doors of the...</td>\n",
              "      <td>[input_ids, token_type_ids, attention_mask]</td>\n",
              "      <td>{'positive': 0.05002627521753311, 'negative': ...</td>\n",
              "      <td>neutral</td>\n",
              "    </tr>\n",
              "    <tr>\n",
              "      <th>3</th>\n",
              "      <td>Mar 13, 2020</td>\n",
              "      <td>Mint</td>\n",
              "      <td>SBI, LIC &amp; top private banks together to infus...</td>\n",
              "      <td>Mumbai: State bank of India has submitted a pr...</td>\n",
              "      <td>According to the proposal, SBI will infuse ₹72...</td>\n",
              "      <td>[input_ids, token_type_ids, attention_mask]</td>\n",
              "      <td>{'positive': 0.5257067680358887, 'negative': 0...</td>\n",
              "      <td>positive</td>\n",
              "    </tr>\n",
              "    <tr>\n",
              "      <th>4</th>\n",
              "      <td>Mar 13, 2020</td>\n",
              "      <td>The Economic Times</td>\n",
              "      <td>YES Bank bailout plan: SBI, ICICI, Jhunjhunwal...</td>\n",
              "      <td>Mumbai/New Delhi: The Cabinet approved the rec...</td>\n",
              "      <td>Other participants in the plan include Housing...</td>\n",
              "      <td>[input_ids, token_type_ids, attention_mask]</td>\n",
              "      <td>{'positive': 0.6517215967178345, 'negative': 0...</td>\n",
              "      <td>positive</td>\n",
              "    </tr>\n",
              "  </tbody>\n",
              "</table>\n",
              "</div>"
            ],
            "text/plain": [
              "           Date  ... sentiment_news\n",
              "0   Mar 8, 2020  ...        neutral\n",
              "1   Mar 5, 2020  ...        neutral\n",
              "2   Mar 6, 2020  ...        neutral\n",
              "3  Mar 13, 2020  ...       positive\n",
              "4  Mar 13, 2020  ...       positive\n",
              "\n",
              "[5 rows x 8 columns]"
            ]
          },
          "metadata": {
            "tags": []
          },
          "execution_count": 60
        }
      ]
    },
    {
      "cell_type": "code",
      "metadata": {
        "colab": {
          "base_uri": "https://localhost:8080/"
        },
        "id": "DNX4PZnC2DXW",
        "outputId": "27bdbfa7-8ad7-49d0-8909-4a2f26fa03b7"
      },
      "source": [
        "SBI_news_mod['sentiment_news'].value_counts()"
      ],
      "execution_count": 61,
      "outputs": [
        {
          "output_type": "execute_result",
          "data": {
            "text/plain": [
              "neutral     113\n",
              "negative     41\n",
              "positive     31\n",
              "Name: sentiment_news, dtype: int64"
            ]
          },
          "metadata": {
            "tags": []
          },
          "execution_count": 61
        }
      ]
    },
    {
      "cell_type": "code",
      "metadata": {
        "id": "Tzco5ye3x94s"
      },
      "source": [
        "SBI_news_mod.to_excel(\"sbi_sentiment2.xlsx\")"
      ],
      "execution_count": 62,
      "outputs": []
    }
  ]
}